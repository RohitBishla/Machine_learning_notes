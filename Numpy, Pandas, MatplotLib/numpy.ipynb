{
 "cells": [
  {
   "cell_type": "markdown",
   "id": "fd6b3270",
   "metadata": {},
   "source": [
    "Numpy array is faster than normal array in python because:\n",
    "1. Numpy array is a collection of similar data-types that are densely packed in memory. A Python list can have different data-types, which puts lots of extra constraints while doing computation on it.\n",
    "2. Numpy is able to divide a task into multiple subtasks and process them parallelly.\n",
    "3. Numpy functions are implemented in C. Which again makes it faster compared to Python Lists."
   ]
  },
  {
   "cell_type": "code",
   "execution_count": 2,
   "id": "a6a06e05",
   "metadata": {},
   "outputs": [],
   "source": [
    "import numpy as np"
   ]
  },
  {
   "cell_type": "code",
   "execution_count": 8,
   "id": "66efcaf0",
   "metadata": {},
   "outputs": [
    {
     "name": "stdout",
     "output_type": "stream",
     "text": [
      "[[1 2 3]\n",
      " [4 5 6]\n",
      " [7 8 9]]\n"
     ]
    }
   ],
   "source": [
    "a = [[1,2,3],[4,5,6],[7,8,9]]\n",
    "b = np.array(a)\n",
    "print(b)"
   ]
  },
  {
   "cell_type": "code",
   "execution_count": 15,
   "id": "2b284a03",
   "metadata": {},
   "outputs": [
    {
     "name": "stdout",
     "output_type": "stream",
     "text": [
      "[0 0 0 0 1 0 0 0 0 0]\n"
     ]
    }
   ],
   "source": [
    "b = np.zeros(10,dtype=int)\n",
    "b[4] = 1\n",
    "print(b)"
   ]
  },
  {
   "cell_type": "code",
   "execution_count": 21,
   "id": "f33fc0fd",
   "metadata": {},
   "outputs": [
    {
     "data": {
      "text/plain": [
       "array([2, 4, 6, 8])"
      ]
     },
     "execution_count": 21,
     "metadata": {},
     "output_type": "execute_result"
    }
   ],
   "source": [
    "b = np.arange(2,10,2)\n",
    "# numpy.arange([start], stop, [step], dtype=None)\n",
    "b"
   ]
  },
  {
   "cell_type": "code",
   "execution_count": 69,
   "id": "0766e802",
   "metadata": {},
   "outputs": [
    {
     "data": {
      "text/plain": [
       "array([ 2.,  4.,  6.,  8., 10.])"
      ]
     },
     "execution_count": 69,
     "metadata": {},
     "output_type": "execute_result"
    }
   ],
   "source": [
    "b = np.linspace(2,10,5)\n",
    "# numpy.linspace(start,stop, num = 50, endpoint = True, retstep = False, dtype = None)\n",
    "b"
   ]
  },
  {
   "cell_type": "code",
   "execution_count": 24,
   "id": "3863fd49",
   "metadata": {},
   "outputs": [
    {
     "data": {
      "text/plain": [
       "array([[1., 0., 0.],\n",
       "       [0., 1., 0.],\n",
       "       [0., 0., 1.]])"
      ]
     },
     "execution_count": 24,
     "metadata": {},
     "output_type": "execute_result"
    }
   ],
   "source": [
    "b = np.identity(3)\n",
    "# using numpy.identity we can get only n*n matrix\n",
    "b"
   ]
  },
  {
   "cell_type": "code",
   "execution_count": 26,
   "id": "b9a6b2ae",
   "metadata": {},
   "outputs": [
    {
     "data": {
      "text/plain": [
       "array([[1., 0., 0.],\n",
       "       [0., 1., 0.],\n",
       "       [0., 0., 1.],\n",
       "       [0., 0., 0.]])"
      ]
     },
     "execution_count": 26,
     "metadata": {},
     "output_type": "execute_result"
    }
   ],
   "source": [
    "b = np.eye(4,3)\n",
    "# using numpy.eye we can get m*n martrix\n",
    "b"
   ]
  },
  {
   "cell_type": "code",
   "execution_count": 27,
   "id": "1e8b26ce",
   "metadata": {},
   "outputs": [
    {
     "data": {
      "text/plain": [
       "array([0.49000979, 0.18872547, 0.83919025, 0.13285386])"
      ]
     },
     "execution_count": 27,
     "metadata": {},
     "output_type": "execute_result"
    }
   ],
   "source": [
    "b = np.random.rand(4)\n",
    "# we will get random value from 0 to 1.\n",
    "b"
   ]
  },
  {
   "cell_type": "code",
   "execution_count": 28,
   "id": "197212b6",
   "metadata": {},
   "outputs": [
    {
     "data": {
      "text/plain": [
       "array([[0.01452678, 0.67767482, 0.31843163, 0.21131869],\n",
       "       [0.94006507, 0.02807673, 0.20237334, 0.1933375 ],\n",
       "       [0.23732324, 0.51407159, 0.19493443, 0.10127317]])"
      ]
     },
     "execution_count": 28,
     "metadata": {},
     "output_type": "execute_result"
    }
   ],
   "source": [
    "b = np.random.rand(3,4)\n",
    "# we will get n*m matrix of value 0 to 1.\n",
    "b"
   ]
  },
  {
   "cell_type": "code",
   "execution_count": 30,
   "id": "374cbbae",
   "metadata": {},
   "outputs": [
    {
     "data": {
      "text/plain": [
       "array([1.68911058, 9.8756225 , 5.81461019])"
      ]
     },
     "execution_count": 30,
     "metadata": {},
     "output_type": "execute_result"
    }
   ],
   "source": [
    "b = np.random.rand(3)*10\n",
    "# we will get n*m matrix of value 0 to 10.\n",
    "b"
   ]
  },
  {
   "cell_type": "code",
   "execution_count": 61,
   "id": "b9dbbb51",
   "metadata": {},
   "outputs": [
    {
     "data": {
      "text/plain": [
       "array([[5, 6, 2, 6, 5],\n",
       "       [5, 1, 9, 3, 5],\n",
       "       [3, 3, 8, 7, 8],\n",
       "       [3, 7, 0, 6, 7]])"
      ]
     },
     "execution_count": 61,
     "metadata": {},
     "output_type": "execute_result"
    }
   ],
   "source": [
    "b = np.random.randint(10, size =(4,5))\n",
    "# we will get matrix size n*m of random integer value 0 to n.\n",
    "b"
   ]
  },
  {
   "cell_type": "code",
   "execution_count": 62,
   "id": "36e7827b",
   "metadata": {},
   "outputs": [
    {
     "data": {
      "text/plain": [
       "(2,)"
      ]
     },
     "execution_count": 62,
     "metadata": {},
     "output_type": "execute_result"
    }
   ],
   "source": [
    "b = np.array([10,323])\n",
    "b.shape\n",
    "# array.shape return tuple with each index having the number of corresponding elements"
   ]
  },
  {
   "cell_type": "code",
   "execution_count": 63,
   "id": "17e4cfff",
   "metadata": {},
   "outputs": [
    {
     "data": {
      "text/plain": [
       "array([ 9, 10, 11, 12, 13, 14, 15, 16, 17, 18, 19, 20, 21, 22, 23, 24, 25,\n",
       "       26, 27, 28, 29, 30, 31, 32, 33, 34, 35, 36, 37, 38, 39, 40, 41, 42,\n",
       "       43, 44, 45, 46, 47, 48, 49])"
      ]
     },
     "execution_count": 63,
     "metadata": {},
     "output_type": "execute_result"
    }
   ],
   "source": [
    "b = np.arange(9,50)\n",
    "b"
   ]
  },
  {
   "cell_type": "code",
   "execution_count": 11,
   "id": "98c2e252",
   "metadata": {},
   "outputs": [
    {
     "name": "stdout",
     "output_type": "stream",
     "text": [
      "(40, 8)\n",
      "1\n",
      "1\n"
     ]
    }
   ],
   "source": [
    "b_2d = np.eye(4,5, dtype=int)\n",
    "print(b_2d.strides)\n",
    "print(b_2d[0][0])\n",
    "print(b_2d[0,0])"
   ]
  },
  {
   "cell_type": "code",
   "execution_count": 13,
   "id": "68b0df6c",
   "metadata": {},
   "outputs": [
    {
     "name": "stdout",
     "output_type": "stream",
     "text": [
      "(8,)\n"
     ]
    },
    {
     "data": {
      "text/plain": [
       "array([0.   , 0.625, 1.25 , 1.875, 2.5  , 3.125, 3.75 , 4.375, 5.   ])"
      ]
     },
     "execution_count": 13,
     "metadata": {},
     "output_type": "execute_result"
    }
   ],
   "source": [
    "b = np.linspace(0,5,9)\n",
    "print(b.strides)\n",
    "# array.strides give size of one coloum or we can say how many byte to skip \n",
    "b"
   ]
  },
  {
   "cell_type": "code",
   "execution_count": 18,
   "id": "35e84cc3",
   "metadata": {},
   "outputs": [
    {
     "name": "stdout",
     "output_type": "stream",
     "text": [
      "1\n",
      "0\n",
      "4\n",
      "3\n"
     ]
    }
   ],
   "source": [
    "b = np.array([1,2,3,4])\n",
    "print(b.min())\n",
    "print(b.argmin())\n",
    "print(b.max())\n",
    "print(b.argmax())"
   ]
  },
  {
   "cell_type": "code",
   "execution_count": 26,
   "id": "128c5559",
   "metadata": {},
   "outputs": [
    {
     "name": "stdout",
     "output_type": "stream",
     "text": [
      "[ True  True False False False]\n",
      "[False False False False False]\n",
      "[False False  True  True  True]\n",
      "[ True  True  True  True  True]\n",
      "[ True  True  True  True False]\n",
      "[False False False False  True]\n"
     ]
    }
   ],
   "source": [
    "a = np.array([2,3,2,-1,0])\n",
    "b = np.array([1,2,3,4,5])\n",
    "print(a>b)\n",
    "print(a==b)\n",
    "print(a<b)\n",
    "print(np.logical_or(a,b))\n",
    "print(np.logical_and(a,b))\n",
    "print(np.logical_not(a))"
   ]
  },
  {
   "cell_type": "code",
   "execution_count": 33,
   "id": "5355752a",
   "metadata": {},
   "outputs": [
    {
     "name": "stdout",
     "output_type": "stream",
     "text": [
      "[False False False  True False  True False]\n",
      "[6 7]\n",
      "(array([2, 6]),)\n"
     ]
    }
   ],
   "source": [
    "b = np.array([4,3,5,6,3,7,5])\n",
    "print(b>5)\n",
    "c = b[b>5]\n",
    "print(c)\n",
    "indexs = np.where(b == 5)\n",
    "print(indexs)"
   ]
  },
  {
   "cell_type": "code",
   "execution_count": 47,
   "id": "41ebc0f0",
   "metadata": {},
   "outputs": [
    {
     "name": "stdout",
     "output_type": "stream",
     "text": [
      "11 2 13 4 15 6 0 8 19 27\n"
     ]
    }
   ],
   "source": [
    "a = np.array([11,2,13,4,15,6,27,8,19,27])\n",
    "a[np.argmax(a)] = 0\n",
    "print(*a)"
   ]
  },
  {
   "cell_type": "code",
   "execution_count": 55,
   "id": "a33318c4",
   "metadata": {},
   "outputs": [
    {
     "name": "stdout",
     "output_type": "stream",
     "text": [
      "17 156\n",
      "13 157\n",
      "14 160\n"
     ]
    }
   ],
   "source": [
    "a = np.array([10,17,12,13,14])\n",
    "b = np.array([150, 156,155,157,160])\n",
    "value = b > 155\n",
    "a=a[value]\n",
    "b=b[value]\n",
    "for i in range(len(b)):\n",
    "    print(a[i],b[i])"
   ]
  },
  {
   "cell_type": "code",
   "execution_count": 59,
   "id": "25639d4b",
   "metadata": {},
   "outputs": [
    {
     "name": "stdout",
     "output_type": "stream",
     "text": [
      "[[8 6 7]\n",
      " [5 6 2]]\n",
      "[[8 5]\n",
      " [6 6]\n",
      " [7 2]]\n"
     ]
    }
   ],
   "source": [
    "a = np.random.randint(1,10,(2,3))\n",
    "print(a)\n",
    "a = np.transpose(a)\n",
    "print(a)"
   ]
  },
  {
   "cell_type": "markdown",
   "id": "ef7da98a",
   "metadata": {},
   "source": [
    "# broadcasting\n",
    "arr1 + arr2\n",
    "if shape of both array are same or one of them is N*1 matrix.\n",
    "1. eg: 3*3 and 1*3 or 3*1\n",
    "2. 1*3 and 3*1\n",
    "3. 1*1 and 3*1."
   ]
  },
  {
   "cell_type": "code",
   "execution_count": null,
   "id": "874f4cc1",
   "metadata": {},
   "outputs": [],
   "source": []
  }
 ],
 "metadata": {
  "kernelspec": {
   "display_name": "Python 3",
   "language": "python",
   "name": "python3"
  },
  "language_info": {
   "codemirror_mode": {
    "name": "ipython",
    "version": 3
   },
   "file_extension": ".py",
   "mimetype": "text/x-python",
   "name": "python",
   "nbconvert_exporter": "python",
   "pygments_lexer": "ipython3",
   "version": "3.8.8"
  }
 },
 "nbformat": 4,
 "nbformat_minor": 5
}
