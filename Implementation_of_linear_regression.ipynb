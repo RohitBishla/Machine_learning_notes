{
 "cells": [
  {
   "cell_type": "markdown",
   "id": "64c55492",
   "metadata": {},
   "source": [
    "Cost function (cost):- $ \\sum \\limits _{i=1} ^{i=n} (y _i - (mx _i+c))^2 $<br>\n",
    "Finding m and c by minimization the cost function.<br>\n",
    "<br>\n",
    "Differentiate the cost function with respect to m.<br>\n",
    "$ \\frac{d(cost)}{dm} = \\sum \\limits _{i=1} ^{i=n} (2(-x _i)(y _i - (mx _i+c)) = 0$<br>\n",
    "$\\frac{\\sum \\limits _{i=1} ^{i=n} (x_i y_i - m(x_i)^2 - cx_i)}{n} = 0$\n",
    "<br>\n",
    "$(x*y).mean() - m(x^2).mean() - c(x).mean() = 0 \\space\\space\\space--(i)$<br>\n",
    "Differentiate the cost function with respect to c.<br>\n",
    "$ \\frac{d(cost)}{dm} = \\sum \\limits _{i=1} ^{i=n} (2(-1)(y _i - (mx _i+c)) = 0$<br>\n",
    "$\\sum \\limits _{i=1} ^{i=n} (y _i - (mx _i +c)) = 0$<br>\n",
    "$c = y.mean() - m(x).mean() \\space \\space \\space --(ii)$<br>\n",
    "By solving (i) and (ii) equation<br>\n",
    "$m = \\frac{(x*y).mean() - x.mean()*y.mean()}{(x^2).mean() - x.mean()*y.mean()}$<br>\n",
    "$c = y.mean() - m x.mean()$"
   ]
  },
  {
   "cell_type": "code",
   "execution_count": 2,
   "id": "a4f9b0e8",
   "metadata": {},
   "outputs": [],
   "source": [
    "import numpy as np"
   ]
  },
  {
   "cell_type": "code",
   "execution_count": 3,
   "id": "557ab399",
   "metadata": {},
   "outputs": [],
   "source": [
    "data = np.loadtxt(\"data.csv\", delimiter = \",\")"
   ]
  },
  {
   "cell_type": "code",
   "execution_count": 25,
   "id": "883956c6",
   "metadata": {},
   "outputs": [],
   "source": [
    "x = data[:,0]\n",
    "y = data[:,1]"
   ]
  },
  {
   "cell_type": "code",
   "execution_count": 26,
   "id": "84cc1367",
   "metadata": {},
   "outputs": [
    {
     "data": {
      "text/plain": [
       "(100,)"
      ]
     },
     "execution_count": 26,
     "metadata": {},
     "output_type": "execute_result"
    }
   ],
   "source": [
    "x.shape"
   ]
  },
  {
   "cell_type": "code",
   "execution_count": 8,
   "id": "fad3e9b0",
   "metadata": {},
   "outputs": [],
   "source": [
    "from sklearn import model_selection"
   ]
  },
  {
   "cell_type": "code",
   "execution_count": 33,
   "id": "99105818",
   "metadata": {},
   "outputs": [],
   "source": [
    "x_train, x_test, y_train, y_test = model_selection.train_test_split(x,y, test_size = 0.3)"
   ]
  },
  {
   "cell_type": "code",
   "execution_count": 28,
   "id": "6e07aaf8",
   "metadata": {},
   "outputs": [
    {
     "data": {
      "text/plain": [
       "(70,)"
      ]
     },
     "execution_count": 28,
     "metadata": {},
     "output_type": "execute_result"
    }
   ],
   "source": [
    " x_train.shape"
   ]
  },
  {
   "cell_type": "code",
   "execution_count": 34,
   "id": "9d47a226",
   "metadata": {},
   "outputs": [],
   "source": [
    "def fit(x_train,y_train):\n",
    "    num = (x_train*y_train).mean() - x_train.mean()*y_train.mean()\n",
    "    den = (x_train*x_train).mean() - x_train.mean()**2\n",
    "    m = num/den\n",
    "    c = y_train.mean() - x_train.mean()*m\n",
    "    return m,c"
   ]
  },
  {
   "cell_type": "code",
   "execution_count": 30,
   "id": "cd6a9c8d",
   "metadata": {},
   "outputs": [],
   "source": [
    "def predict(x_test, m, c):\n",
    "    return m*x_test + c"
   ]
  },
  {
   "cell_type": "code",
   "execution_count": 35,
   "id": "2a54bc6a",
   "metadata": {},
   "outputs": [],
   "source": [
    "# score = 1 - u/v\n",
    "# u = summation (y_test - y_pred)**2\n",
    "# v = summation (y_test - y_test.mean())**2\n",
    "def score(y_test, y_train):\n",
    "    u = ((y_test - y_pred)**2).sum()\n",
    "    v = ((y_test - y_test.mean())**2).sum()\n",
    "    return 1 - u/v"
   ]
  },
  {
   "cell_type": "markdown",
   "id": "da2ceb9b",
   "metadata": {},
   "source": [
    "Cost function (cost):- $ \\sum \\limits _{i=1} ^{i=n} (y _i - (mx _i+c))^2 $<br>\n",
    "We can divide cost function by N because we have lot more training data so we don't want out cost function much higher.<br>\n",
    "Now our cost function is average error per training data.<br>\n",
    "Cost function (cost):- $ \\frac{\\sum \\limits _{i=1} ^{i=n} (y _i - (mx _i+c))^2}{N} $<br>"
   ]
  },
  {
   "cell_type": "code",
   "execution_count": 42,
   "id": "cb7f504d",
   "metadata": {},
   "outputs": [],
   "source": [
    "def cost(x,y,m,c):\n",
    "    return ((y -(m*x + c))**2).mean()"
   ]
  },
  {
   "cell_type": "code",
   "execution_count": 43,
   "id": "2b4f4105",
   "metadata": {},
   "outputs": [
    {
     "name": "stdout",
     "output_type": "stream",
     "text": [
      "Test score:  0.5525920904185335\n",
      "Train score:  0.5992883045452859\n",
      "Cost on training data 121.67540227009346\n"
     ]
    }
   ],
   "source": [
    "m, c = fit(x_train,y_train)\n",
    "# test data\n",
    "y_pred = predict(x_test, m ,c)\n",
    "print(\"Test score: \",score(y_test, y_pred))\n",
    "# train data\n",
    "y_pred = predict(x_train, m ,c)\n",
    "print(\"Train score: \",score(y_train, y_pred))\n",
    "print(\"Cost on training data\",cost(x_train,y_train,m,c))"
   ]
  }
 ],
 "metadata": {
  "kernelspec": {
   "display_name": "Python 3",
   "language": "python",
   "name": "python3"
  },
  "language_info": {
   "codemirror_mode": {
    "name": "ipython",
    "version": 3
   },
   "file_extension": ".py",
   "mimetype": "text/x-python",
   "name": "python",
   "nbconvert_exporter": "python",
   "pygments_lexer": "ipython3",
   "version": "3.8.8"
  }
 },
 "nbformat": 4,
 "nbformat_minor": 5
}
