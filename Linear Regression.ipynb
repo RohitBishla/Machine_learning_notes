{
 "cells": [
  {
   "cell_type": "code",
   "execution_count": 1,
   "id": "afd54ea6",
   "metadata": {},
   "outputs": [],
   "source": [
    "import numpy as np"
   ]
  },
  {
   "cell_type": "code",
   "execution_count": 3,
   "id": "6eef64fa",
   "metadata": {},
   "outputs": [],
   "source": [
    "data = np.loadtxt(\"data.csv\",delimiter=',')"
   ]
  },
  {
   "cell_type": "code",
   "execution_count": 5,
   "id": "1cf72216",
   "metadata": {},
   "outputs": [
    {
     "data": {
      "text/plain": [
       "(100, 2)"
      ]
     },
     "execution_count": 5,
     "metadata": {},
     "output_type": "execute_result"
    }
   ],
   "source": [
    "data.shape"
   ]
  },
  {
   "cell_type": "code",
   "execution_count": 53,
   "id": "88282cbc",
   "metadata": {},
   "outputs": [
    {
     "name": "stdout",
     "output_type": "stream",
     "text": [
      "(100, 1)\n"
     ]
    }
   ],
   "source": [
    "x = data[:,0].reshape(-1,1)\n",
    "y = data[:, 1].reshape(-1,1)\n",
    "print(y.shape)"
   ]
  },
  {
   "cell_type": "code",
   "execution_count": 54,
   "id": "b43b63f9",
   "metadata": {},
   "outputs": [],
   "source": [
    "from sklearn import model_selection\n",
    "x_train,x_test, y_train, y_test = model_selection.train_test_split(x,y)"
   ]
  },
  {
   "cell_type": "code",
   "execution_count": 55,
   "id": "7b8d261f",
   "metadata": {},
   "outputs": [
    {
     "data": {
      "text/plain": [
       "LinearRegression()"
      ]
     },
     "execution_count": 55,
     "metadata": {},
     "output_type": "execute_result"
    }
   ],
   "source": [
    "from sklearn.linear_model import LinearRegression\n",
    "alg1 = LinearRegression()\n",
    "alg1.fit(x_train, y_train)"
   ]
  },
  {
   "cell_type": "code",
   "execution_count": 73,
   "id": "db79bb59",
   "metadata": {},
   "outputs": [
    {
     "data": {
      "text/plain": [
       "array([1.30077612])"
      ]
     },
     "execution_count": 73,
     "metadata": {},
     "output_type": "execute_result"
    }
   ],
   "source": [
    "m = alg1.coef_[0]\n",
    "m"
   ]
  },
  {
   "cell_type": "code",
   "execution_count": 68,
   "id": "aa206c08",
   "metadata": {},
   "outputs": [
    {
     "data": {
      "text/plain": [
       "array([9.89921544])"
      ]
     },
     "execution_count": 68,
     "metadata": {},
     "output_type": "execute_result"
    }
   ],
   "source": [
    "c = alg1.intercept_\n",
    "c"
   ]
  },
  {
   "cell_type": "code",
   "execution_count": 79,
   "id": "155d0200",
   "metadata": {},
   "outputs": [
    {
     "data": {
      "image/png": "[encoded data removed]",
      "text/plain": [
       "<Figure size 432x288 with 1 Axes>"
      ]
     },
     "metadata": {
      "needs_background": "light"
     },
     "output_type": "display_data"
    }
   ],
   "source": [
    "import matplotlib.pyplot as plt\n",
    "x_line = np.arange(20,80,0.1)\n",
    "y_line = m*x_line + c\n",
    "plt.plot(x_line,y_line)\n",
    "train_x_1d = x_train.reshape(len(x_train),)\n",
    "# plt.scatter(x_train,y_train)\n",
    "plt.scatter(x_test,y_test)\n",
    "plt.show()"
   ]
  },
  {
   "cell_type": "raw",
   "id": "f0c6ccfa",
   "metadata": {},
   "source": [
    "Coefficient of determination\n",
    "Score = 1 - u/v\n",
    "u = summation( y_i^T - y_i^P)^2\n",
    "v  = summation( y_i^T - y_mean^P)^2\n",
    "T:- True value\n",
    "P:- Predicted value\n",
    "ingenral secore [0,1] it can also be negative"
   ]
  },
  {
   "cell_type": "code",
   "execution_count": 80,
   "id": "54f13e65",
   "metadata": {},
   "outputs": [
    {
     "data": {
      "text/plain": [
       "0.7135847810485196"
      ]
     },
     "execution_count": 80,
     "metadata": {},
     "output_type": "execute_result"
    }
   ],
   "source": [
    "alg1.score(x_test,y_test)"
   ]
  },
  {
   "cell_type": "code",
   "execution_count": 81,
   "id": "c9aa4b17",
   "metadata": {},
   "outputs": [
    {
     "data": {
      "text/plain": [
       "0.5525995484384159"
      ]
     },
     "execution_count": 81,
     "metadata": {},
     "output_type": "execute_result"
    }
   ],
   "source": [
    "alg1.score(x_train,y_train)"
   ]
  },
  {
   "cell_type": "raw",
   "id": "8fdb6e18",
   "metadata": {},
   "source": [
    "#sum of squared error\n",
    "cost function = summation(y_i - (m*x + c))^2\n",
    "we not take abs because we don't want our function to linearly change for every point as we point value be higher of far most point and smaller of nearer point"
   ]
  },
  {
   "cell_type": "code",
   "execution_count": null,
   "id": "5d664244",
   "metadata": {},
   "outputs": [],
   "source": []
  }
 ],
 "metadata": {
  "kernelspec": {
   "display_name": "Python 3",
   "language": "python",
   "name": "python3"
  },
  "language_info": {
   "codemirror_mode": {
    "name": "ipython",
    "version": 3
   },
   "file_extension": ".py",
   "mimetype": "text/x-python",
   "name": "python",
   "nbconvert_exporter": "python",
   "pygments_lexer": "ipython3",
   "version": "3.8.8"
  }
 },
 "nbformat": 4,
 "nbformat_minor": 5
}
